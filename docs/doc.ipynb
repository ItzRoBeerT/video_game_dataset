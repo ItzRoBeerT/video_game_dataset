{
 "cells": [
  {
   "cell_type": "markdown",
   "metadata": {},
   "source": [
    "# Documentacion "
   ]
  },
  {
   "cell_type": "markdown",
   "metadata": {},
   "source": [
    "Nosotros hemos elegido dos datasets sobre videojuegos, uno de ellos consta de la informacion de ventas de estos juegos mientras que los otros de la ubicacion de las empresas que los han creado. \n",
    "\n",
    "Como estos dos datasets eran del formato csv, hemos tenido que convertir uno de ellos a formato parquet. Para ellos hemos usado el siguiente codigo: "
   ]
  },
  {
   "cell_type": "code",
   "execution_count": null,
   "metadata": {},
   "outputs": [],
   "source": [
    "import pandas as pd\n",
    "\n",
    "csv_file = \"your_file.csv\"\n",
    "parquet_file = \"your_file.parquet\"\n",
    "\n",
    "df = pd.read_csv(csv_file)\n",
    "\n",
    "df.to_parquet(parquet_file, engine=\"pyarrow\", index=False)"
   ]
  },
  {
   "cell_type": "markdown",
   "metadata": {},
   "source": [
    "Con esto ya tendriamos guardado el dataset como formato parquet en el directorio en el que estamos. El siguiente paso seria el tratamiento de datos, donde vemos que datos son los que queremos mantener para luego juntar los datasets. \n",
    "\n",
    "Para ello nos dividimos los datasets, tratando uno cada uno, eliminado columnas innecesarias como `Est.` (El año en el que se establecio la empresa) que no son importantes para el objetivo que buscamos. Una vez hemos filtrado las columnas que nos interesan ahora queda tratar los valores nulos, en los que tenemos varias formas de elimianrlos, la que nosoros hemos usado es eliminar las filas con nulos, ya que al tener uan gran cantidad de datos y ser pocas filas podemos permitirnos perder algunas filas. \n",
    "\n",
    "Ahora con los datasets ya filtrados, podemos pasar a juntarlos, lo cual es algo simple. \n",
    "\n"
   ]
  },
  {
   "cell_type": "code",
   "execution_count": null,
   "metadata": {},
   "outputs": [],
   "source": [
    "video_games = pd.concat([indie_games_csv, video_games_csv], ignore_index=True)"
   ]
  },
  {
   "cell_type": "markdown",
   "metadata": {},
   "source": [
    "Con esta funcion de pandas unimos los dos datasets, aunque, ahora nos surge otro problema, las filas que estan en un dataset pero no en el otro tienen valores nulos, los cuales debemos tratar de alguna forma. Ademas nos surgen algunos duplicados los cuales podemos eliminar con este codigo:"
   ]
  },
  {
   "cell_type": "code",
   "execution_count": null,
   "metadata": {},
   "outputs": [],
   "source": [
    "video_games = video_games.drop_duplicates(subset='Developer', keep='first')"
   ]
  },
  {
   "cell_type": "markdown",
   "metadata": {},
   "source": [
    "Ahora el unico problema que nos queda es con los valores nulos que surgen al mezclar este dataset, (TO BE CONTINUED)"
   ]
  },
  {
   "cell_type": "markdown",
   "metadata": {},
   "source": [
    "## Hugging face [Link](https://huggingface.co/datasets/ItzRoBeerT/video-games-sales/commit/bc5427b7d31a947b73c604db3f16187e170fcb1a)"
   ]
  },
  {
   "cell_type": "markdown",
   "metadata": {},
   "source": [
    "## Aitor Mendrago [Link](https://aitor-medrano.github.io/iabd/hf/datasets.html)"
   ]
  },
  {
   "cell_type": "markdown",
   "metadata": {},
   "source": []
  }
 ],
 "metadata": {
  "kernelspec": {
   "display_name": "ml_env",
   "language": "python",
   "name": "python3"
  },
  "language_info": {
   "name": "python",
   "version": "3.12.7"
  }
 },
 "nbformat": 4,
 "nbformat_minor": 2
}
